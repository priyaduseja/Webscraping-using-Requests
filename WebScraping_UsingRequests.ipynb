{
 "cells": [
  {
   "cell_type": "markdown",
   "id": "de2cd188",
   "metadata": {},
   "source": [
    "###### In this project, I attempt to scape the Author names and their quotes from Quotes to Scrape Website using Requests library. I save them in a csv file"
   ]
  },
  {
   "cell_type": "code",
   "execution_count": 1,
   "id": "1463cb24",
   "metadata": {},
   "outputs": [],
   "source": [
    "import requests"
   ]
  },
  {
   "cell_type": "code",
   "execution_count": 5,
   "id": "6d030a4e",
   "metadata": {},
   "outputs": [],
   "source": [
    "#We are making an HTTP requests without verifying the SSL certificate. The below code will suppress the warning.\n",
    "import urllib3\n",
    "urllib3.disable_warnings(urllib3.exceptions.InsecureRequestWarning)"
   ]
  },
  {
   "cell_type": "code",
   "execution_count": 10,
   "id": "1d53d5c3",
   "metadata": {},
   "outputs": [],
   "source": [
    "#This sends a GET request to the URL \"https://quotes.toscrape.com/page/1/\" using the requests library. \n",
    "#The verify=False parameter is used to disable SSL certificate verification\n",
    "r = requests.get(\"https://quotes.toscrape.com/page/1/\", verify=False)"
   ]
  },
  {
   "cell_type": "markdown",
   "id": "227fdeff",
   "metadata": {},
   "source": [
    "-- It sends a GET request to each generated URL, retrieving the HTML content of the page."
   ]
  },
  {
   "cell_type": "code",
   "execution_count": 11,
   "id": "d945f034",
   "metadata": {},
   "outputs": [],
   "source": [
    "html = r.text"
   ]
  },
  {
   "cell_type": "markdown",
   "id": "7fc8e98a",
   "metadata": {},
   "source": [
    "\n",
    "\n",
    "-- Parsing HTML: After retrieving the HTML content, the script parses it line by line, searching for specific HTML elements that contain the quotes and their authors.\n",
    "\n",
    "-- Data Extraction: It extracts the quotes and authors from the HTML content using string manipulation techniques to remove HTML tags and extract relevant text.\n",
    "\n",
    "-- Writing to CSV: The extracted quotes and authors are then written to a CSV file named \"quotes.csv\". The file is opened in append mode ('a'), ensuring that new quotes are added to the existing file without overwriting previous entries. The encoding parameter is specified as 'utf-8-sig' to handle Unicode characters properly."
   ]
  },
  {
   "cell_type": "code",
   "execution_count": 8,
   "id": "23ca94f4",
   "metadata": {},
   "outputs": [],
   "source": [
    "# Creating an excel file named \"quotes.csv\" and saving our extracted Author names and Quotes\n",
    "with open('quotes.csv','w') as f:\n",
    "    for line in html.split('\\n'):\n",
    "        if 'span class=\"text\" itemprop=\"text\">' in line:\n",
    "            line = line.replace('<span class=\"text\" itemprop=\"text\">“','')\n",
    "            line = line.replace('”</span>','')\n",
    "            quotes = line.strip()\n",
    "        if '<span>by <small class=\"author\" itemprop=\"author\">' in line:\n",
    "            line = line.replace('<span>by <small class=\"author\" itemprop=\"author\">','')\n",
    "            line = line.replace('</small>','')\n",
    "            author = line.strip()\n",
    "            f.write(author+\", \"+quotes)\n",
    "            f.write('\\n')"
   ]
  },
  {
   "cell_type": "markdown",
   "id": "0f5c38eb",
   "metadata": {},
   "source": [
    "###### \n",
    "The script utilizes the requests library in Python to send HTTP GET requests to each page of the website containing quotes. It iterates through a range of page numbers (from 1 to 10) to scrape quotes from multiple pages"
   ]
  },
  {
   "cell_type": "code",
   "execution_count": 12,
   "id": "0e78ede8",
   "metadata": {},
   "outputs": [],
   "source": [
    "for i in range(1,11):\n",
    "    url = f'https://quotes.toscrape.com/page/{i}/'\n",
    "    r = requests.get(url,verify=False)\n",
    "    html = r.text\n",
    "    with open('quotes.csv','a',encoding='utf-8-sig') as f:\n",
    "        for line in html.split('\\n'):\n",
    "            if 'span class=\"text\" itemprop=\"text\">' in line:\n",
    "                line = line.replace('<span class=\"text\" itemprop=\"text\">“','')\n",
    "                line = line.replace('”</span>','')\n",
    "                quotes = line.strip()\n",
    "            if '<span>by <small class=\"author\" itemprop=\"author\">' in line:\n",
    "                line = line.replace('<span>by <small class=\"author\" itemprop=\"author\">','')\n",
    "                line = line.replace('</small>','')\n",
    "                author = line.strip()\n",
    "                f.write(author+\",\"+quotes)\n",
    "                f.write('\\n')"
   ]
  }
 ],
 "metadata": {
  "kernelspec": {
   "display_name": "Python 3 (ipykernel)",
   "language": "python",
   "name": "python3"
  },
  "language_info": {
   "codemirror_mode": {
    "name": "ipython",
    "version": 3
   },
   "file_extension": ".py",
   "mimetype": "text/x-python",
   "name": "python",
   "nbconvert_exporter": "python",
   "pygments_lexer": "ipython3",
   "version": "3.9.13"
  }
 },
 "nbformat": 4,
 "nbformat_minor": 5
}
